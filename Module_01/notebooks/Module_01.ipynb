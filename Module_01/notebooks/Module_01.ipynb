{
 "cells": [
  {
   "cell_type": "code",
   "execution_count": 1,
   "id": "173340c3",
   "metadata": {},
   "outputs": [],
   "source": [
    "import pickle\n",
    "\n",
    "import matplotlib.pyplot as plt\n",
    "import pandas as pd\n",
    "import seaborn as sns\n",
    "from sklearn.feature_extraction import DictVectorizer\n",
    "from sklearn.linear_model import Lasso, LinearRegression, Ridge\n",
    "from sklearn.metrics import mean_squared_error"
   ]
  },
  {
   "cell_type": "code",
   "execution_count": 2,
   "id": "e33daed1",
   "metadata": {},
   "outputs": [],
   "source": [
    "DATA_DIR = '../data/'"
   ]
  },
  {
   "cell_type": "code",
   "execution_count": 3,
   "id": "86f4893a",
   "metadata": {
    "scrolled": true
   },
   "outputs": [
    {
     "name": "stdout",
     "output_type": "stream",
     "text": [
      "Q1. Shape: (1154112, 7)\n",
      "Q2. Average duration: 19.17\n",
      "Q3. Missing values: 83.03%\n",
      "CPU times: user 6.45 s, sys: 179 ms, total: 6.63 s\n",
      "Wall time: 6.51 s\n"
     ]
    }
   ],
   "source": [
    "%%time\n",
    "df = pd.read_parquet(DATA_DIR + 'fhv_tripdata_2021-01.parquet')\n",
    "print(f'Q1. Shape: {df.shape}')\n",
    "df['duration'] = df['dropOff_datetime'] - df['pickup_datetime']\n",
    "df.duration = df.duration.apply(lambda td: td.total_seconds() / 60)\n",
    "print(f'Q2. Average duration: {df.duration.mean():.2f}')\n",
    "\n",
    "df['PUlocationID'] = df['PUlocationID'].replace({'nan': '-1'})\n",
    "df['DOlocationID'] = df['DOlocationID'].replace({'nan': '-1'})\n",
    "print(f\"Q3. Missing values: {df['PUlocationID'].isna().sum() / df.shape[0] * 100:.2f}%\")\n",
    "\n",
    "df = df[(df.duration >= 1) & (df.duration <= 60)]\n",
    "\n",
    "categorical = ['PUlocationID', 'DOlocationID']\n",
    "numerical = []\n",
    "\n",
    "df[categorical] = df[categorical].astype(str)"
   ]
  },
  {
   "cell_type": "code",
   "execution_count": 4,
   "id": "7ff45d44",
   "metadata": {},
   "outputs": [
    {
     "name": "stdout",
     "output_type": "stream",
     "text": [
      "Q4. Features: (1109826, 525)\n",
      "Q5. RMSE: 10.528519427219633\n",
      "CPU times: user 11.8 s, sys: 4.38 s, total: 16.1 s\n",
      "Wall time: 6.44 s\n"
     ]
    }
   ],
   "source": [
    "%%time\n",
    "train_dicts = df[categorical + numerical].to_dict(orient='records')\n",
    "\n",
    "dv = DictVectorizer()\n",
    "X_train = dv.fit_transform(train_dicts)\n",
    "print(f'Q4. Features: {X_train.shape}')\n",
    "\n",
    "target = 'duration'\n",
    "y_train = df[target].values\n",
    "\n",
    "lr = LinearRegression()\n",
    "lr.fit(X_train, y_train)\n",
    "\n",
    "y_pred = lr.predict(X_train)\n",
    "\n",
    "print(f\"Q5. RMSE: {mean_squared_error(y_train, y_pred, squared=False)}\")"
   ]
  },
  {
   "cell_type": "code",
   "execution_count": 5,
   "id": "26a66ef4",
   "metadata": {},
   "outputs": [
    {
     "name": "stdout",
     "output_type": "stream",
     "text": [
      "CPU times: user 5.87 s, sys: 143 ms, total: 6.02 s\n",
      "Wall time: 5.84 s\n"
     ]
    }
   ],
   "source": [
    "%%time\n",
    "df_val = pd.read_parquet(DATA_DIR + 'fhv_tripdata_2021-02.parquet')\n",
    "df_val['duration'] = df_val['dropOff_datetime'] - df_val['pickup_datetime']\n",
    "df_val.duration = df_val.duration.apply(lambda td: td.total_seconds() / 60)\n",
    "\n",
    "df_val['PUlocationID'] = df_val['PUlocationID'].replace({'nan': '-1'})\n",
    "df_val['DOlocationID'] = df_val['DOlocationID'].replace({'nan': '-1'})\n",
    "\n",
    "df_val = df_val[(df_val.duration >= 1) & (df_val.duration <= 60)]\n",
    "df_val[categorical] = df_val[categorical].astype(str)"
   ]
  },
  {
   "cell_type": "code",
   "execution_count": 6,
   "id": "d0223d8e",
   "metadata": {},
   "outputs": [
    {
     "name": "stdout",
     "output_type": "stream",
     "text": [
      "Q6. RMSE: 11.01428685575068\n"
     ]
    }
   ],
   "source": [
    "train_dicts_val = df_val[categorical + numerical].to_dict(orient='records')\n",
    "X_val = dv.transform(train_dicts_val)\n",
    "\n",
    "y_val = df_val[target].values\n",
    "\n",
    "y_val_pred = lr.predict(X_val)\n",
    "\n",
    "print(f\"Q6. RMSE: {mean_squared_error(y_val, y_val_pred, squared=False)}\")"
   ]
  },
  {
   "cell_type": "code",
   "execution_count": null,
   "id": "0b15adaf",
   "metadata": {},
   "outputs": [],
   "source": []
  }
 ],
 "metadata": {
  "kernelspec": {
   "display_name": "Python 3 (ipykernel)",
   "language": "python",
   "name": "python3"
  },
  "language_info": {
   "codemirror_mode": {
    "name": "ipython",
    "version": 3
   },
   "file_extension": ".py",
   "mimetype": "text/x-python",
   "name": "python",
   "nbconvert_exporter": "python",
   "pygments_lexer": "ipython3",
   "version": "3.8.10"
  }
 },
 "nbformat": 4,
 "nbformat_minor": 5
}
